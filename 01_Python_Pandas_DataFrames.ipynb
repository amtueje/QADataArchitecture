{
  "cells": [
    {
      "cell_type": "markdown",
      "metadata": {
        "id": "view-in-github",
        "colab_type": "text"
      },
      "source": [
        "<a href=\"https://colab.research.google.com/github/amtueje/QADataArchitecture/blob/main/01_Python_Pandas_DataFrames.ipynb\" target=\"_parent\"><img src=\"https://colab.research.google.com/assets/colab-badge.svg\" alt=\"Open In Colab\"/></a>"
      ]
    },
    {
      "cell_type": "code",
      "execution_count": null,
      "metadata": {
        "id": "s2gDgtRfKtRx"
      },
      "outputs": [],
      "source": [
        "import numpy as np\n",
        "import pandas as pd\n",
        "import datetime"
      ]
    },
    {
      "cell_type": "markdown",
      "metadata": {
        "id": "YtAsfVoWKtR5"
      },
      "source": [
        "## DataFrames"
      ]
    },
    {
      "cell_type": "code",
      "execution_count": null,
      "metadata": {
        "id": "MwsVs2XiKtR8"
      },
      "outputs": [],
      "source": [
        "students = ['Alice', 'Bob', 'Emily', 'Charlie']"
      ]
    },
    {
      "cell_type": "code",
      "execution_count": null,
      "metadata": {
        "id": "vc4OYFyLKtR-"
      },
      "outputs": [],
      "source": [
        "scores = [90, 80, 65, 50]"
      ]
    },
    {
      "cell_type": "code",
      "execution_count": null,
      "metadata": {
        "id": "2tI3dkr7KtR_"
      },
      "outputs": [],
      "source": [
        "exam_results = pd.DataFrame(\n",
        "    {\n",
        "        \"name\": students,\n",
        "        \"scores\": scores\n",
        "    }\n",
        ")"
      ]
    },
    {
      "cell_type": "code",
      "execution_count": null,
      "metadata": {
        "id": "TBlOBft4KtSA"
      },
      "outputs": [],
      "source": [
        "exam_results"
      ]
    },
    {
      "cell_type": "markdown",
      "metadata": {
        "id": "kukurWMrKtSB"
      },
      "source": [
        "### Searching (SQL SELECT)"
      ]
    },
    {
      "cell_type": "code",
      "execution_count": null,
      "metadata": {
        "id": "TIWthilPKtSD"
      },
      "outputs": [],
      "source": [
        "exam_results.loc[0, 'scores']"
      ]
    },
    {
      "cell_type": "code",
      "execution_count": null,
      "metadata": {
        "id": "eWfEC1hgKtSE"
      },
      "outputs": [],
      "source": [
        "exam_results.loc[:, 'scores']"
      ]
    },
    {
      "cell_type": "code",
      "execution_count": null,
      "metadata": {
        "id": "qGOnhVapKtSF"
      },
      "outputs": [],
      "source": [
        "exam_results.loc[2, :]"
      ]
    },
    {
      "cell_type": "code",
      "execution_count": null,
      "metadata": {
        "id": "CMvlYb8uKtSH"
      },
      "outputs": [],
      "source": [
        "exam_results['scores']"
      ]
    },
    {
      "cell_type": "code",
      "execution_count": null,
      "metadata": {
        "id": "smBOmcHFKtSI"
      },
      "outputs": [],
      "source": [
        "exam_results[['name', 'scores']]"
      ]
    },
    {
      "cell_type": "markdown",
      "metadata": {
        "id": "Y0O7olCUKtSJ"
      },
      "source": [
        "### Add Columns"
      ]
    },
    {
      "cell_type": "markdown",
      "metadata": {
        "id": "ibX1bCszKtSJ"
      },
      "source": [
        "We can also easily add columns"
      ]
    },
    {
      "cell_type": "code",
      "execution_count": null,
      "metadata": {
        "id": "tNsvKwZhKtSK"
      },
      "outputs": [],
      "source": [
        "gender = ['female', 'male', 'female', 'male']"
      ]
    },
    {
      "cell_type": "code",
      "execution_count": null,
      "metadata": {
        "id": "aHDDwdzgKtSK"
      },
      "outputs": [],
      "source": [
        "exam_results['gender'] = gender"
      ]
    },
    {
      "cell_type": "code",
      "execution_count": null,
      "metadata": {
        "id": "ziqMmCBRKtSL"
      },
      "outputs": [],
      "source": [
        "exam_results"
      ]
    },
    {
      "cell_type": "code",
      "execution_count": null,
      "metadata": {
        "id": "q_7vg2F_KtSL"
      },
      "outputs": [],
      "source": [
        "exam_results['scores'] "
      ]
    },
    {
      "cell_type": "markdown",
      "metadata": {
        "id": "MgzD_b1IKtSM"
      },
      "source": [
        "### Remove Columns"
      ]
    },
    {
      "cell_type": "code",
      "execution_count": null,
      "metadata": {
        "id": "DgdqciRbKtSM"
      },
      "outputs": [],
      "source": [
        "exam_results.drop('name', axis=1)"
      ]
    },
    {
      "cell_type": "markdown",
      "metadata": {
        "id": "LjfqIiHwKtSN"
      },
      "source": [
        "### Column names and Row Index"
      ]
    },
    {
      "cell_type": "code",
      "execution_count": null,
      "metadata": {
        "id": "H11iU0oFKtSP"
      },
      "outputs": [],
      "source": [
        "exam_results.columns"
      ]
    },
    {
      "cell_type": "code",
      "execution_count": null,
      "metadata": {
        "id": "W8jr-jgpKtSP"
      },
      "outputs": [],
      "source": [
        "exam_results.index"
      ]
    },
    {
      "cell_type": "markdown",
      "metadata": {
        "id": "lhYlvPRIKtSQ"
      },
      "source": [
        "### Renaming Columns"
      ]
    },
    {
      "cell_type": "code",
      "execution_count": null,
      "metadata": {
        "id": "efr1CYQzKtSQ"
      },
      "outputs": [],
      "source": [
        "exam_results.rename({'name': 'first_name'}, axis=1)"
      ]
    },
    {
      "cell_type": "markdown",
      "metadata": {
        "id": "8cBaMXj6KtSR"
      },
      "source": [
        "### Dealing with missing values"
      ]
    },
    {
      "cell_type": "markdown",
      "metadata": {
        "id": "7EkzTMtGKtSR"
      },
      "source": [
        "Dataframes have specific commands which help with the handling of missing data"
      ]
    },
    {
      "cell_type": "code",
      "execution_count": null,
      "metadata": {
        "id": "sxkVFFUaKtSR"
      },
      "outputs": [],
      "source": [
        "sparse = pd.DataFrame({'a': [1, 2, 3],\n",
        "                       'b': [np.nan, 4, np.nan],\n",
        "                       'c': [5, np.nan, np.nan]})"
      ]
    },
    {
      "cell_type": "code",
      "execution_count": null,
      "metadata": {
        "id": "M1LL17CJKtSS"
      },
      "outputs": [],
      "source": [
        "sparse"
      ]
    },
    {
      "cell_type": "code",
      "execution_count": null,
      "metadata": {
        "id": "xiidJgllKtST"
      },
      "outputs": [],
      "source": [
        "sparse.isna()"
      ]
    },
    {
      "cell_type": "code",
      "execution_count": null,
      "metadata": {
        "id": "-n1rbyz0KtST"
      },
      "outputs": [],
      "source": [
        "sparse.fillna(0)"
      ]
    },
    {
      "cell_type": "code",
      "execution_count": null,
      "metadata": {
        "id": "AXW5mERRKtST"
      },
      "outputs": [],
      "source": [
        "sparse.dropna(axis=1)"
      ]
    },
    {
      "cell_type": "markdown",
      "metadata": {
        "id": "XAOcErxEKtST"
      },
      "source": [
        "### Group by"
      ]
    },
    {
      "cell_type": "code",
      "execution_count": null,
      "metadata": {
        "id": "DECgdcFjKtSU"
      },
      "outputs": [],
      "source": [
        "exam_results.groupby('gender').mean()"
      ]
    },
    {
      "cell_type": "code",
      "execution_count": null,
      "metadata": {
        "id": "TGamtC0fKtSU"
      },
      "outputs": [],
      "source": [
        "mylist = [1,2,1,2]\n",
        "\n",
        "exam_results.groupby(mylist).get_group(1)"
      ]
    },
    {
      "cell_type": "code",
      "execution_count": null,
      "metadata": {
        "id": "h0ALaEn-KtSV"
      },
      "outputs": [],
      "source": [
        "exam_results.groupby(mylist).get_group(2)"
      ]
    },
    {
      "cell_type": "markdown",
      "metadata": {
        "id": "6k0mzsNGKtSV"
      },
      "source": [
        "Thus, suppose we want to group people who obtained marks above or below 70, then we could do:"
      ]
    },
    {
      "cell_type": "code",
      "execution_count": null,
      "metadata": {
        "id": "civfuKHQKtSW"
      },
      "outputs": [],
      "source": [
        "above_70 = exam_results['scores'] > 70\n",
        "above_70"
      ]
    },
    {
      "cell_type": "markdown",
      "metadata": {
        "id": "yvS_o-TbKtSW"
      },
      "source": [
        "This will compute the mean scores of students who scored above or below 70"
      ]
    },
    {
      "cell_type": "code",
      "execution_count": null,
      "metadata": {
        "id": "cfYj6qfPKtSW"
      },
      "outputs": [],
      "source": [
        "exam_results.groupby(above_70).mean()"
      ]
    },
    {
      "cell_type": "markdown",
      "metadata": {
        "id": "dlc8qWxBKtSX"
      },
      "source": [
        "### Merge and Joining"
      ]
    },
    {
      "cell_type": "code",
      "execution_count": null,
      "metadata": {
        "id": "YaZTg0sTKtSX"
      },
      "outputs": [],
      "source": [
        "contacts = pd.DataFrame(\n",
        "    {\n",
        "        'name' : ['Alice', 'Charlie'],\n",
        "        'tel'  : ['+44 1234 5678', '+44 3245 5564']\n",
        "    }\n",
        ")"
      ]
    },
    {
      "cell_type": "code",
      "execution_count": null,
      "metadata": {
        "id": "HVQro9jjKtSX"
      },
      "outputs": [],
      "source": [
        "exam_results.merge(contacts, left_on='name', right_on='name')   # defaults to inner join"
      ]
    },
    {
      "cell_type": "code",
      "execution_count": null,
      "metadata": {
        "id": "BLaZm0GKKtSY"
      },
      "outputs": [],
      "source": [
        "exam_results.merge(contacts, left_on='name', right_on='name', how='outer')"
      ]
    }
  ],
  "metadata": {
    "kernelspec": {
      "display_name": "Python 3",
      "language": "python",
      "name": "python3"
    },
    "language_info": {
      "codemirror_mode": {
        "name": "ipython",
        "version": 3
      },
      "file_extension": ".py",
      "mimetype": "text/x-python",
      "name": "python",
      "nbconvert_exporter": "python",
      "pygments_lexer": "ipython3",
      "version": "3.7.4"
    },
    "colab": {
      "name": "01 - Python-Pandas-DataFrames.ipynb",
      "provenance": [],
      "include_colab_link": true
    }
  },
  "nbformat": 4,
  "nbformat_minor": 0
}